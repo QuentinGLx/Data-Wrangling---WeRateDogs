{
 "cells": [
  {
   "cell_type": "markdown",
   "metadata": {},
   "source": [
    "# Internal Report - Wrangling efforts"
   ]
  },
  {
   "cell_type": "markdown",
   "metadata": {},
   "source": [
    "The wrangling process started by the collection of the three different files in relation with the Twitter user WeRateDogs.\n",
    "\n",
    "Note: The tweet-json file was acquired through Udacity and not directly and not using the API. This is the reason why the code in relation with the API is in a markdown cell (to avoid running it when going through the project).\n",
    "\n",
    "We then started the analysis process to identify correction we should apply. As stated in the project guideline, many steps could have been performed. But we concentrated our wrangling efforts to the mandatory issues to address being 8 quality issues and 2 tidiness issues. \n",
    "\n",
    "The identification of issues was done for each file separately and the outcome were as follow:\n",
    "\n",
    "**Twitter archived enhanced**\n",
    "\n",
    "Tidiness: \n",
    "- The different stages of dogs are spread accross multiple columns. One column only would be sufficient. \n",
    "\n",
    "\n",
    "Quality:\n",
    "- Some missing values appears as \"NaN\" while others appears as \"None\" \n",
    "- The timestamp are not in datetime\n",
    "- Retweet are currently included but these are excluded by the project guildelines.\n",
    "- in_reply_to columns should be integers\n",
    "- Some dog names are missing or have incorrect values in lower cases\n",
    "- Some numerators were wrongly extracted\n",
    "\n",
    "**Image Prediction**\n",
    "\n",
    "Quality: \n",
    "- when all p_ columns are False the row should be removed \n",
    "- duplicated url should be deleted\n",
    "\n",
    "**Twitter API**\n",
    "\n",
    "Quality: \n",
    "- Retweet are not to be included in this analysis\n",
    "\n",
    "A **last tidiness issue** was then added: Need to merged all sets into one. \n",
    "\n",
    "This step was completed once all other issues were addressed.\n",
    "\n",
    "All files were duplicated for the cleaning process. The files use for the operation were called as follow: **file_wr**\n",
    "\n",
    "For each modification we performed manipulation and their verification. Once all were completed, we merged all three data sets into **df_merged_final**. \n",
    "\n",
    "Our clean data set was saved into a .csv file. \n"
   ]
  }
 ],
 "metadata": {
  "kernelspec": {
   "display_name": "Python 3",
   "language": "python",
   "name": "python3"
  },
  "language_info": {
   "codemirror_mode": {
    "name": "ipython",
    "version": 3
   },
   "file_extension": ".py",
   "mimetype": "text/x-python",
   "name": "python",
   "nbconvert_exporter": "python",
   "pygments_lexer": "ipython3",
   "version": "3.6.3"
  }
 },
 "nbformat": 4,
 "nbformat_minor": 2
}
